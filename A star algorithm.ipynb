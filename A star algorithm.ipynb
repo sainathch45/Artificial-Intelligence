{
  "nbformat": 4,
  "nbformat_minor": 0,
  "metadata": {
    "colab": {
      "provenance": []
    },
    "kernelspec": {
      "name": "python3",
      "display_name": "Python 3"
    },
    "language_info": {
      "name": "python"
    }
  },
  "cells": [
    {
      "cell_type": "code",
      "execution_count": 11,
      "metadata": {
        "id": "DiQW0hJGeKQJ"
      },
      "outputs": [],
      "source": [
        "graph=[['A','B',1,3],\n",
        "       ['A','C',2,4],\n",
        "       ['A','H',7,0],\n",
        "       ['B','D',4,2],\n",
        "       ['B','E',6,6],\n",
        "       ['C','F',3,3],\n",
        "       ['C','G',2,1],\n",
        "       ['D','E',7,6],\n",
        "       ['D','H',5,0],\n",
        "       ['F','H',1,0],\n",
        "       ['G','H',2,0]]"
      ]
    },
    {
      "cell_type": "code",
      "source": [
        "temp=[]\n",
        "temp1=[]\n",
        "for i in graph:\n",
        "  temp.append(i[0])\n",
        "  temp1.append(i[1])\n",
        "print(temp)\n",
        "print(temp1)"
      ],
      "metadata": {
        "colab": {
          "base_uri": "https://localhost:8080/"
        },
        "id": "y--FWldCiIp3",
        "outputId": "74bad633-fe9f-479d-be0e-dbcb5758106f"
      },
      "execution_count": 15,
      "outputs": [
        {
          "output_type": "stream",
          "name": "stdout",
          "text": [
            "['A', 'A', 'A', 'B', 'B', 'C', 'C', 'D', 'D', 'F', 'G']\n",
            "['B', 'C', 'H', 'D', 'E', 'F', 'G', 'E', 'H', 'H', 'H']\n"
          ]
        }
      ]
    },
    {
      "cell_type": "code",
      "source": [
        "nodes=set(temp+temp1)\n",
        "print(nodes)\n",
        "def A_star(graph,costs,open,closed,cur_node):\n",
        "  if cur_node in open:\n",
        "    open.remove(cur_node)\n",
        "  closed.add(cur_node)\n",
        "  for i in graph:\n",
        "    if(i[0]==cur_node and costs[i[0]]+i[2]+i[3] < costs[i[1]]):\n",
        "      open.add(i[1])\n",
        "      costs[i[1]]=costs[i[0]]+i[2]+i[3]\n",
        "      path[i[1]]=path[i[0]]+ '-->' + i[1]\n",
        "  costs[cur_node]=999999\n",
        "  small=min(costs, key=costs.get)\n",
        "  if small not in closed:\n",
        "    A_star(graph,costs,open,closed,small)\n",
        "costs=dict()\n",
        "path=dict()\n",
        "for i in nodes:\n",
        "  costs[i]=9999999\n",
        "  path[i]=' '\n"
      ],
      "metadata": {
        "id": "ctqtAToIilHJ",
        "colab": {
          "base_uri": "https://localhost:8080/"
        },
        "outputId": "e51c14e1-f75a-436a-eaa4-fd32d1179bf6"
      },
      "execution_count": 16,
      "outputs": [
        {
          "output_type": "stream",
          "name": "stdout",
          "text": [
            "{'H', 'F', 'B', 'D', 'E', 'G', 'A', 'C'}\n"
          ]
        }
      ]
    },
    {
      "cell_type": "code",
      "source": [
        "open=set()\n",
        "closed=set()\n",
        "start_node=input(\"Enter the start node:\")\n",
        "open.add(start_node)"
      ],
      "metadata": {
        "colab": {
          "base_uri": "https://localhost:8080/"
        },
        "id": "Lmm1_Hdvmssc",
        "outputId": "8f408bfc-2a0c-44ba-bbc4-48a09a304e06"
      },
      "execution_count": 25,
      "outputs": [
        {
          "name": "stdout",
          "output_type": "stream",
          "text": [
            "Enter the start node:A\n"
          ]
        }
      ]
    },
    {
      "cell_type": "code",
      "source": [
        "path[start_node]=start_node\n",
        "costs[start_node]=0\n"
      ],
      "metadata": {
        "id": "giG-yy-JnZfH"
      },
      "execution_count": 27,
      "outputs": []
    },
    {
      "cell_type": "code",
      "source": [
        "A_star(graph,costs,open,closed,start_node)\n",
        "goal_node=input(\"Enter the Goal node:\")\n",
        "print(\"Path with least cost is: \",path[goal_node])"
      ],
      "metadata": {
        "colab": {
          "base_uri": "https://localhost:8080/"
        },
        "id": "bkX1xdwEnhfF",
        "outputId": "16a79dfc-5440-4bd2-bf1d-700dae3d88d1"
      },
      "execution_count": 29,
      "outputs": [
        {
          "output_type": "stream",
          "name": "stdout",
          "text": [
            "Enter the Goal node:H\n",
            "Path with least cost is:  A-->C-->G-->H\n"
          ]
        }
      ]
    }
  ]
}